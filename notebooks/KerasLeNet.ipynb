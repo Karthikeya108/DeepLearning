{
 "cells": [
  {
   "cell_type": "code",
   "execution_count": 1,
   "metadata": {
    "collapsed": false
   },
   "outputs": [
    {
     "name": "stderr",
     "output_type": "stream",
     "text": [
      "Using TensorFlow backend.\n"
     ]
    }
   ],
   "source": [
    "from keras import backend as k\n",
    "from keras.models import Sequential\n",
    "from keras.layers.convolutional import Conv2D\n",
    "from keras.layers.convolutional import MaxPooling2D\n",
    "from keras.layers.core import Activation\n",
    "from keras.layers.core import Flatten\n",
    "from keras.layers.core import Dense\n",
    "from keras.datasets import mnist\n",
    "from keras.utils import np_utils\n",
    "from keras.optimizers import SGD, RMSprop, Adam\n",
    "import numpy as np\n",
    "import matplotlib.pyplot as plt"
   ]
  },
  {
   "cell_type": "code",
   "execution_count": 2,
   "metadata": {
    "collapsed": true
   },
   "outputs": [],
   "source": [
    "#Define the ConvNet\n",
    "class LeNet:\n",
    "    @staticmethod\n",
    "    def build(input_shape, classes):\n",
    "        model = Sequential()\n",
    "        model.add(Conv2D(20, kernel_size=5, padding=\"same\", input_shape=input_shape))\n",
    "        model.add(Activation(\"relu\"))\n",
    "        model.add(MaxPooling2D(pool_size=(2, 2), strides=(2, 2)))\n",
    "        model.add(Conv2D(50, kernel_size=5, padding=\"same\"))\n",
    "        model.add(Activation(\"relu\"))\n",
    "        model.add(MaxPooling2D(pool_size=(2, 2), strides=(2, 2)))\n",
    "        #Flatten\n",
    "        model.add(Flatten())\n",
    "        model.add(Dense(500))\n",
    "        model.add(Activation(\"relu\"))\n",
    "        #a softmax classifier\n",
    "        model.add(Dense(classes))\n",
    "        model.add(Activation(\"softmax\"))\n",
    "        \n",
    "        return model"
   ]
  },
  {
   "cell_type": "code",
   "execution_count": 3,
   "metadata": {
    "collapsed": true
   },
   "outputs": [],
   "source": [
    "#Network and Training\n",
    "NB_EPOCH = 20\n",
    "BATCH_SIZE = 128\n",
    "VERBOSE = 1\n",
    "OPTIMIZER = Adam()\n",
    "VALIDATION_SPLIT = 0.2\n",
    "IMG_ROWS, IMG_COLS = 28, 28\n",
    "NB_CLASSES = 10\n",
    "INPUT_SHAPE = (1, IMG_ROWS, IMG_COLS)"
   ]
  },
  {
   "cell_type": "code",
   "execution_count": 4,
   "metadata": {
    "collapsed": false
   },
   "outputs": [
    {
     "name": "stdout",
     "output_type": "stream",
     "text": [
      "(60000, 'train samples')\n",
      "(10000, 'test samples')\n"
     ]
    }
   ],
   "source": [
    "# DATA Shuffled and Split between train and test sets\n",
    "(X_train, y_train), (X_test, y_test) = mnist.load_data()\n",
    "k.set_image_dim_ordering(\"th\")\n",
    "# consider them as float and normalize\n",
    "X_train = X_train.astype('float32')\n",
    "X_test = X_test.astype('float32')\n",
    "X_train /= 255\n",
    "X_test /= 255\n",
    "# we need a 60K x [1 x 28 x28] shape as input to the ConvNet\n",
    "X_train = X_train[:, np.newaxis, :, :]\n",
    "X_test = X_test[:, np.newaxis, :, :]\n",
    "print(X_train.shape[0], 'train samples')\n",
    "print(X_test.shape[0], 'test samples')\n",
    "#convert class vectors to binary class matrices\n",
    "y_train = np_utils.to_categorical(y_train, NB_CLASSES)\n",
    "y_test = np_utils.to_categorical(y_test, NB_CLASSES)"
   ]
  },
  {
   "cell_type": "code",
   "execution_count": 5,
   "metadata": {
    "collapsed": true
   },
   "outputs": [],
   "source": [
    "#Initialize the Optimizer and model\n",
    "model = LeNet.build(input_shape=INPUT_SHAPE, classes=NB_CLASSES)\n",
    "model.compile(loss=\"categorical_crossentropy\", optimizer=OPTIMIZER, metrics=[\"accuracy\"])"
   ]
  },
  {
   "cell_type": "code",
   "execution_count": 6,
   "metadata": {
    "collapsed": false
   },
   "outputs": [
    {
     "name": "stdout",
     "output_type": "stream",
     "text": [
      "Train on 48000 samples, validate on 12000 samples\n",
      "Epoch 1/20\n",
      "48000/48000 [==============================] - 104s 2ms/step - loss: 0.1769 - acc: 0.9468 - val_loss: 0.0635 - val_acc: 0.9815\n",
      "Epoch 2/20\n",
      "48000/48000 [==============================] - 107s 2ms/step - loss: 0.0484 - acc: 0.9848 - val_loss: 0.0406 - val_acc: 0.9879\n",
      "Epoch 3/20\n",
      "48000/48000 [==============================] - 106s 2ms/step - loss: 0.0327 - acc: 0.9898 - val_loss: 0.0441 - val_acc: 0.9860\n",
      "Epoch 4/20\n",
      "48000/48000 [==============================] - 107s 2ms/step - loss: 0.0223 - acc: 0.9930 - val_loss: 0.0409 - val_acc: 0.9877\n",
      "Epoch 5/20\n",
      "48000/48000 [==============================] - 111s 2ms/step - loss: 0.0176 - acc: 0.9939 - val_loss: 0.0374 - val_acc: 0.9892\n",
      "Epoch 6/20\n",
      "48000/48000 [==============================] - 111s 2ms/step - loss: 0.0137 - acc: 0.9953 - val_loss: 0.0353 - val_acc: 0.9899\n",
      "Epoch 7/20\n",
      "48000/48000 [==============================] - 110s 2ms/step - loss: 0.0091 - acc: 0.9971 - val_loss: 0.0348 - val_acc: 0.9911\n",
      "Epoch 8/20\n",
      "48000/48000 [==============================] - 111s 2ms/step - loss: 0.0109 - acc: 0.9964 - val_loss: 0.0411 - val_acc: 0.9910\n",
      "Epoch 9/20\n",
      "48000/48000 [==============================] - 111s 2ms/step - loss: 0.0078 - acc: 0.9972 - val_loss: 0.0405 - val_acc: 0.9911\n",
      "Epoch 10/20\n",
      "48000/48000 [==============================] - 110s 2ms/step - loss: 0.0068 - acc: 0.9974 - val_loss: 0.0460 - val_acc: 0.9894\n",
      "Epoch 11/20\n",
      "48000/48000 [==============================] - 112s 2ms/step - loss: 0.0054 - acc: 0.9982 - val_loss: 0.0440 - val_acc: 0.9909\n",
      "Epoch 12/20\n",
      "48000/48000 [==============================] - 110s 2ms/step - loss: 0.0058 - acc: 0.9981 - val_loss: 0.0446 - val_acc: 0.9888\n",
      "Epoch 13/20\n",
      "48000/48000 [==============================] - 109s 2ms/step - loss: 0.0042 - acc: 0.9985 - val_loss: 0.0470 - val_acc: 0.9898\n",
      "Epoch 14/20\n",
      "48000/48000 [==============================] - 107s 2ms/step - loss: 0.0061 - acc: 0.9978 - val_loss: 0.0445 - val_acc: 0.9896\n",
      "Epoch 15/20\n",
      "48000/48000 [==============================] - 108s 2ms/step - loss: 0.0036 - acc: 0.9989 - val_loss: 0.0422 - val_acc: 0.9896\n",
      "Epoch 16/20\n",
      "48000/48000 [==============================] - 107s 2ms/step - loss: 0.0027 - acc: 0.9991 - val_loss: 0.0420 - val_acc: 0.9912\n",
      "Epoch 17/20\n",
      "48000/48000 [==============================] - 109s 2ms/step - loss: 0.0048 - acc: 0.9985 - val_loss: 0.0508 - val_acc: 0.9896\n",
      "Epoch 18/20\n",
      "48000/48000 [==============================] - 109s 2ms/step - loss: 0.0067 - acc: 0.9978 - val_loss: 0.0455 - val_acc: 0.9909\n",
      "Epoch 19/20\n",
      "48000/48000 [==============================] - 109s 2ms/step - loss: 0.0023 - acc: 0.9992 - val_loss: 0.0438 - val_acc: 0.9915\n",
      "Epoch 20/20\n",
      "48000/48000 [==============================] - 109s 2ms/step - loss: 0.0023 - acc: 0.9992 - val_loss: 0.0490 - val_acc: 0.9907\n"
     ]
    }
   ],
   "source": [
    "history = model.fit(X_train, y_train, batch_size=BATCH_SIZE, epochs=NB_EPOCH, \n",
    "                    verbose=VERBOSE, validation_split=VALIDATION_SPLIT)"
   ]
  },
  {
   "cell_type": "code",
   "execution_count": 7,
   "metadata": {
    "collapsed": false
   },
   "outputs": [
    {
     "name": "stdout",
     "output_type": "stream",
     "text": [
      "10000/10000 [==============================] - 11s 1ms/step\n",
      "('Test score:', 0.035106098788098096)\n",
      "('Test accuracy:', 0.9919)\n"
     ]
    }
   ],
   "source": [
    "score = model.evaluate(X_test, y_test, verbose=VERBOSE)\n",
    "print(\"Test score:\", score[0])\n",
    "print('Test accuracy:', score[1])"
   ]
  },
  {
   "cell_type": "code",
   "execution_count": 12,
   "metadata": {
    "collapsed": false
   },
   "outputs": [],
   "source": [
    "#save model\n",
    "model_json = model.to_json()\n",
    "open('LeNet_architecture.json', 'w').write(model_json)\n",
    "#And the weights learned by our deep network on the training set\n",
    "model.save_weights('LeNet_weights.h5', overwrite=True)"
   ]
  },
  {
   "cell_type": "code",
   "execution_count": 8,
   "metadata": {
    "collapsed": false
   },
   "outputs": [
    {
     "name": "stdout",
     "output_type": "stream",
     "text": [
      "['acc', 'loss', 'val_acc', 'val_loss']\n"
     ]
    }
   ],
   "source": [
    "# list all data in history\n",
    "print(history.history.keys())"
   ]
  },
  {
   "cell_type": "code",
   "execution_count": 9,
   "metadata": {
    "collapsed": false
   },
   "outputs": [
    {
     "data": {
      "image/png": "[encoded data removed]",
      "text/plain": [
       "<matplotlib.figure.Figure at 0x1311c9f50>"
      ]
     },
     "metadata": {},
     "output_type": "display_data"
    }
   ],
   "source": [
    "# summarize history for accuracy\n",
    "plt.plot(history.history['acc'])\n",
    "plt.plot(history.history['val_acc'])\n",
    "plt.title('model accuracy')\n",
    "plt.ylabel('accuracy')\n",
    "plt.xlabel('epoch')\n",
    "plt.legend(['train', 'test'], loc='upper left')\n",
    "plt.show()"
   ]
  },
  {
   "cell_type": "code",
   "execution_count": 10,
   "metadata": {
    "collapsed": false
   },
   "outputs": [
    {
     "data": {
      "image/png": "[encoded data removed]",
      "text/plain": [
       "<matplotlib.figure.Figure at 0x1310c0210>"
      ]
     },
     "metadata": {},
     "output_type": "display_data"
    }
   ],
   "source": [
    "# summarize history for loss\n",
    "plt.plot(history.history['loss'])\n",
    "plt.plot(history.history['val_loss'])\n",
    "plt.title('model loss')\n",
    "plt.ylabel('loss')\n",
    "plt.xlabel('epoch')\n",
    "plt.legend(['train', 'test'], loc='upper left')\n",
    "plt.show()"
   ]
  },
  {
   "cell_type": "code",
   "execution_count": null,
   "metadata": {
    "collapsed": true
   },
   "outputs": [],
   "source": []
  }
 ],
 "metadata": {
  "anaconda-cloud": {},
  "kernelspec": {
   "display_name": "Python [default]",
   "language": "python",
   "name": "python2"
  },
  "language_info": {
   "codemirror_mode": {
    "name": "ipython",
    "version": 2
   },
   "file_extension": ".py",
   "mimetype": "text/x-python",
   "name": "python",
   "nbconvert_exporter": "python",
   "pygments_lexer": "ipython2",
   "version": "2.7.12"
  }
 },
 "nbformat": 4,
 "nbformat_minor": 1
}
